{
  "nbformat": 4,
  "nbformat_minor": 0,
  "metadata": {
    "colab": {
      "provenance": []
    },
    "kernelspec": {
      "name": "python3",
      "display_name": "Python 3"
    },
    "language_info": {
      "name": "python"
    }
  },
  "cells": [
    {
      "cell_type": "markdown",
      "source": [
        "# **Implementing KNN from scratch**\n",
        "\n",
        "The test problem we will be using in this tutorial is the iris classification.\n",
        "\n",
        "The problem consists of 150 observations of iris flowers from three different species. There are 4 measurements of given flowers: sepal length, sepal width, petal length, and petal width (all in the same unit of centimeters). The predicted attribute is the species, which is either Setosa, Versicolor, or Virginica.\n",
        "\n",
        "It is a standard dataset where the species is known for all instances. As such we can split the data into training and test datasets and use the results to evaluate our algorithm implementation. Good classification accuracy on this problem is above 90% correct (typically 96% or better)."
      ],
      "metadata": {
        "id": "mmOEgDFDhqGr"
      }
    },
    {
      "cell_type": "markdown",
      "source": [
        "**By**: LOUBAR Ahcene"
      ],
      "metadata": {
        "id": "OAuU7jI2h02k"
      }
    },
    {
      "cell_type": "markdown",
      "source": [
        "# **Loading and preparing data**"
      ],
      "metadata": {
        "id": "00eb8NIVo6ND"
      }
    },
    {
      "cell_type": "markdown",
      "source": [
        "-- For this KNN mini project we will use the Iris dataset that is available on the sklearn library and also on kaggle and other sources."
      ],
      "metadata": {
        "id": "wNPHNmWXpDuc"
      }
    },
    {
      "cell_type": "code",
      "execution_count": null,
      "metadata": {
        "id": "LkmTHV5zhoLh",
        "colab": {
          "base_uri": "https://localhost:8080/"
        },
        "outputId": "09b129b0-b111-444a-e0f0-6aac69073041"
      },
      "outputs": [
        {
          "output_type": "stream",
          "name": "stdout",
          "text": [
            "5.1, 3.5, 1.4, 0.2, Iris-setosa\n",
            "4.9, 3.0, 1.4, 0.2, Iris-setosa\n",
            "4.7, 3.2, 1.3, 0.2, Iris-setosa\n",
            "4.6, 3.1, 1.5, 0.2, Iris-setosa\n",
            "5.0, 3.6, 1.4, 0.2, Iris-setosa\n",
            "5.4, 3.9, 1.7, 0.4, Iris-setosa\n",
            "4.6, 3.4, 1.4, 0.3, Iris-setosa\n",
            "5.0, 3.4, 1.5, 0.2, Iris-setosa\n",
            "4.4, 2.9, 1.4, 0.2, Iris-setosa\n",
            "4.9, 3.1, 1.5, 0.1, Iris-setosa\n",
            "5.4, 3.7, 1.5, 0.2, Iris-setosa\n",
            "4.8, 3.4, 1.6, 0.2, Iris-setosa\n",
            "4.8, 3.0, 1.4, 0.1, Iris-setosa\n",
            "4.3, 3.0, 1.1, 0.1, Iris-setosa\n",
            "5.8, 4.0, 1.2, 0.2, Iris-setosa\n",
            "5.7, 4.4, 1.5, 0.4, Iris-setosa\n",
            "5.4, 3.9, 1.3, 0.4, Iris-setosa\n",
            "5.1, 3.5, 1.4, 0.3, Iris-setosa\n",
            "5.7, 3.8, 1.7, 0.3, Iris-setosa\n",
            "5.1, 3.8, 1.5, 0.3, Iris-setosa\n",
            "5.4, 3.4, 1.7, 0.2, Iris-setosa\n",
            "5.1, 3.7, 1.5, 0.4, Iris-setosa\n",
            "4.6, 3.6, 1.0, 0.2, Iris-setosa\n",
            "5.1, 3.3, 1.7, 0.5, Iris-setosa\n",
            "4.8, 3.4, 1.9, 0.2, Iris-setosa\n",
            "5.0, 3.0, 1.6, 0.2, Iris-setosa\n",
            "5.0, 3.4, 1.6, 0.4, Iris-setosa\n",
            "5.2, 3.5, 1.5, 0.2, Iris-setosa\n",
            "5.2, 3.4, 1.4, 0.2, Iris-setosa\n",
            "4.7, 3.2, 1.6, 0.2, Iris-setosa\n",
            "4.8, 3.1, 1.6, 0.2, Iris-setosa\n",
            "5.4, 3.4, 1.5, 0.4, Iris-setosa\n",
            "5.2, 4.1, 1.5, 0.1, Iris-setosa\n",
            "5.5, 4.2, 1.4, 0.2, Iris-setosa\n",
            "4.9, 3.1, 1.5, 0.1, Iris-setosa\n",
            "5.0, 3.2, 1.2, 0.2, Iris-setosa\n",
            "5.5, 3.5, 1.3, 0.2, Iris-setosa\n",
            "4.9, 3.1, 1.5, 0.1, Iris-setosa\n",
            "4.4, 3.0, 1.3, 0.2, Iris-setosa\n",
            "5.1, 3.4, 1.5, 0.2, Iris-setosa\n",
            "5.0, 3.5, 1.3, 0.3, Iris-setosa\n",
            "4.5, 2.3, 1.3, 0.3, Iris-setosa\n",
            "4.4, 3.2, 1.3, 0.2, Iris-setosa\n",
            "5.0, 3.5, 1.6, 0.6, Iris-setosa\n",
            "5.1, 3.8, 1.9, 0.4, Iris-setosa\n",
            "4.8, 3.0, 1.4, 0.3, Iris-setosa\n",
            "5.1, 3.8, 1.6, 0.2, Iris-setosa\n",
            "4.6, 3.2, 1.4, 0.2, Iris-setosa\n",
            "5.3, 3.7, 1.5, 0.2, Iris-setosa\n",
            "5.0, 3.3, 1.4, 0.2, Iris-setosa\n",
            "7.0, 3.2, 4.7, 1.4, Iris-versicolor\n",
            "6.4, 3.2, 4.5, 1.5, Iris-versicolor\n",
            "6.9, 3.1, 4.9, 1.5, Iris-versicolor\n",
            "5.5, 2.3, 4.0, 1.3, Iris-versicolor\n",
            "6.5, 2.8, 4.6, 1.5, Iris-versicolor\n",
            "5.7, 2.8, 4.5, 1.3, Iris-versicolor\n",
            "6.3, 3.3, 4.7, 1.6, Iris-versicolor\n",
            "4.9, 2.4, 3.3, 1.0, Iris-versicolor\n",
            "6.6, 2.9, 4.6, 1.3, Iris-versicolor\n",
            "5.2, 2.7, 3.9, 1.4, Iris-versicolor\n",
            "5.0, 2.0, 3.5, 1.0, Iris-versicolor\n",
            "5.9, 3.0, 4.2, 1.5, Iris-versicolor\n",
            "6.0, 2.2, 4.0, 1.0, Iris-versicolor\n",
            "6.1, 2.9, 4.7, 1.4, Iris-versicolor\n",
            "5.6, 2.9, 3.6, 1.3, Iris-versicolor\n",
            "6.7, 3.1, 4.4, 1.4, Iris-versicolor\n",
            "5.6, 3.0, 4.5, 1.5, Iris-versicolor\n",
            "5.8, 2.7, 4.1, 1.0, Iris-versicolor\n",
            "6.2, 2.2, 4.5, 1.5, Iris-versicolor\n",
            "5.6, 2.5, 3.9, 1.1, Iris-versicolor\n",
            "5.9, 3.2, 4.8, 1.8, Iris-versicolor\n",
            "6.1, 2.8, 4.0, 1.3, Iris-versicolor\n",
            "6.3, 2.5, 4.9, 1.5, Iris-versicolor\n",
            "6.1, 2.8, 4.7, 1.2, Iris-versicolor\n",
            "6.4, 2.9, 4.3, 1.3, Iris-versicolor\n",
            "6.6, 3.0, 4.4, 1.4, Iris-versicolor\n",
            "6.8, 2.8, 4.8, 1.4, Iris-versicolor\n",
            "6.7, 3.0, 5.0, 1.7, Iris-versicolor\n",
            "6.0, 2.9, 4.5, 1.5, Iris-versicolor\n",
            "5.7, 2.6, 3.5, 1.0, Iris-versicolor\n",
            "5.5, 2.4, 3.8, 1.1, Iris-versicolor\n",
            "5.5, 2.4, 3.7, 1.0, Iris-versicolor\n",
            "5.8, 2.7, 3.9, 1.2, Iris-versicolor\n",
            "6.0, 2.7, 5.1, 1.6, Iris-versicolor\n",
            "5.4, 3.0, 4.5, 1.5, Iris-versicolor\n",
            "6.0, 3.4, 4.5, 1.6, Iris-versicolor\n",
            "6.7, 3.1, 4.7, 1.5, Iris-versicolor\n",
            "6.3, 2.3, 4.4, 1.3, Iris-versicolor\n",
            "5.6, 3.0, 4.1, 1.3, Iris-versicolor\n",
            "5.5, 2.5, 4.0, 1.3, Iris-versicolor\n",
            "5.5, 2.6, 4.4, 1.2, Iris-versicolor\n",
            "6.1, 3.0, 4.6, 1.4, Iris-versicolor\n",
            "5.8, 2.6, 4.0, 1.2, Iris-versicolor\n",
            "5.0, 2.3, 3.3, 1.0, Iris-versicolor\n",
            "5.6, 2.7, 4.2, 1.3, Iris-versicolor\n",
            "5.7, 3.0, 4.2, 1.2, Iris-versicolor\n",
            "5.7, 2.9, 4.2, 1.3, Iris-versicolor\n",
            "6.2, 2.9, 4.3, 1.3, Iris-versicolor\n",
            "5.1, 2.5, 3.0, 1.1, Iris-versicolor\n",
            "5.7, 2.8, 4.1, 1.3, Iris-versicolor\n",
            "6.3, 3.3, 6.0, 2.5, Iris-virginica\n",
            "5.8, 2.7, 5.1, 1.9, Iris-virginica\n",
            "7.1, 3.0, 5.9, 2.1, Iris-virginica\n",
            "6.3, 2.9, 5.6, 1.8, Iris-virginica\n",
            "6.5, 3.0, 5.8, 2.2, Iris-virginica\n",
            "7.6, 3.0, 6.6, 2.1, Iris-virginica\n",
            "4.9, 2.5, 4.5, 1.7, Iris-virginica\n",
            "7.3, 2.9, 6.3, 1.8, Iris-virginica\n",
            "6.7, 2.5, 5.8, 1.8, Iris-virginica\n",
            "7.2, 3.6, 6.1, 2.5, Iris-virginica\n",
            "6.5, 3.2, 5.1, 2.0, Iris-virginica\n",
            "6.4, 2.7, 5.3, 1.9, Iris-virginica\n",
            "6.8, 3.0, 5.5, 2.1, Iris-virginica\n",
            "5.7, 2.5, 5.0, 2.0, Iris-virginica\n",
            "5.8, 2.8, 5.1, 2.4, Iris-virginica\n",
            "6.4, 3.2, 5.3, 2.3, Iris-virginica\n",
            "6.5, 3.0, 5.5, 1.8, Iris-virginica\n",
            "7.7, 3.8, 6.7, 2.2, Iris-virginica\n",
            "7.7, 2.6, 6.9, 2.3, Iris-virginica\n",
            "6.0, 2.2, 5.0, 1.5, Iris-virginica\n",
            "6.9, 3.2, 5.7, 2.3, Iris-virginica\n",
            "5.6, 2.8, 4.9, 2.0, Iris-virginica\n",
            "7.7, 2.8, 6.7, 2.0, Iris-virginica\n",
            "6.3, 2.7, 4.9, 1.8, Iris-virginica\n",
            "6.7, 3.3, 5.7, 2.1, Iris-virginica\n",
            "7.2, 3.2, 6.0, 1.8, Iris-virginica\n",
            "6.2, 2.8, 4.8, 1.8, Iris-virginica\n",
            "6.1, 3.0, 4.9, 1.8, Iris-virginica\n",
            "6.4, 2.8, 5.6, 2.1, Iris-virginica\n",
            "7.2, 3.0, 5.8, 1.6, Iris-virginica\n",
            "7.4, 2.8, 6.1, 1.9, Iris-virginica\n",
            "7.9, 3.8, 6.4, 2.0, Iris-virginica\n",
            "6.4, 2.8, 5.6, 2.2, Iris-virginica\n",
            "6.3, 2.8, 5.1, 1.5, Iris-virginica\n",
            "6.1, 2.6, 5.6, 1.4, Iris-virginica\n",
            "7.7, 3.0, 6.1, 2.3, Iris-virginica\n",
            "6.3, 3.4, 5.6, 2.4, Iris-virginica\n",
            "6.4, 3.1, 5.5, 1.8, Iris-virginica\n",
            "6.0, 3.0, 4.8, 1.8, Iris-virginica\n",
            "6.9, 3.1, 5.4, 2.1, Iris-virginica\n",
            "6.7, 3.1, 5.6, 2.4, Iris-virginica\n",
            "6.9, 3.1, 5.1, 2.3, Iris-virginica\n",
            "5.8, 2.7, 5.1, 1.9, Iris-virginica\n",
            "6.8, 3.2, 5.9, 2.3, Iris-virginica\n",
            "6.7, 3.3, 5.7, 2.5, Iris-virginica\n",
            "6.7, 3.0, 5.2, 2.3, Iris-virginica\n",
            "6.3, 2.5, 5.0, 1.9, Iris-virginica\n",
            "6.5, 3.0, 5.2, 2.0, Iris-virginica\n",
            "6.2, 3.4, 5.4, 2.3, Iris-virginica\n",
            "5.9, 3.0, 5.1, 1.8, Iris-virginica\n"
          ]
        }
      ],
      "source": [
        "import csv\n",
        "\n",
        "with open('/content/iris.data.txt', 'r') as csvfile:\n",
        "  lines = csv.reader(csvfile)\n",
        "  for row in lines :\n",
        "    print (', '.join(row))"
      ]
    },
    {
      "cell_type": "code",
      "source": [
        "import random\n",
        "\n",
        "def loadDataset(filename, split, trainingSet=[] , testSet=[]):\n",
        "  with open(filename, 'r') as csvfile:\n",
        "    lines = csv.reader(csvfile)\n",
        "    dataset = list(lines)\n",
        "    for x in range(len(dataset)-1):\n",
        "      for y in range(4):\n",
        "        dataset[x][y] = float(dataset[x][y])\n",
        "      if random.random() < split:\n",
        "        trainingSet.append(dataset[x])\n",
        "      else:\n",
        "        testSet.append(dataset[x])\n",
        "\n",
        "#We can test this function out with our iris dataset, as follows:\n",
        "trainingSet=[]\n",
        "testSet=[]\n",
        "\n",
        "loadDataset('/content/iris.data.txt', 0.66, trainingSet, testSet)\n",
        "\n",
        "print ('Train: ' + repr(len(trainingSet)))\n",
        "print ('Test: ' + repr(len(testSet)) )\n"
      ],
      "metadata": {
        "id": "yYtSEI-vioUY",
        "colab": {
          "base_uri": "https://localhost:8080/"
        },
        "outputId": "278d3b02-9b72-41b0-e4ce-c4fe75ec365b"
      },
      "execution_count": null,
      "outputs": [
        {
          "output_type": "stream",
          "name": "stdout",
          "text": [
            "Train: 99\n",
            "Test: 50\n"
          ]
        }
      ]
    },
    {
      "cell_type": "code",
      "source": [
        "trainingSet[:5]"
      ],
      "metadata": {
        "colab": {
          "base_uri": "https://localhost:8080/"
        },
        "id": "OpqlXYOdD7uU",
        "outputId": "229eda65-fadc-43db-b679-88be51e3b907"
      },
      "execution_count": null,
      "outputs": [
        {
          "output_type": "execute_result",
          "data": {
            "text/plain": [
              "[[5.1, 3.5, 1.4, 0.2, 'Iris-setosa'],\n",
              " [4.9, 3.0, 1.4, 0.2, 'Iris-setosa'],\n",
              " [4.6, 3.1, 1.5, 0.2, 'Iris-setosa'],\n",
              " [5.0, 3.6, 1.4, 0.2, 'Iris-setosa'],\n",
              " [5.4, 3.9, 1.7, 0.4, 'Iris-setosa']]"
            ]
          },
          "metadata": {},
          "execution_count": 63
        }
      ]
    },
    {
      "cell_type": "markdown",
      "source": [
        "As we can see our training set has 4 features and a label column."
      ],
      "metadata": {
        "id": "2bjTGbySoULV"
      }
    },
    {
      "cell_type": "markdown",
      "source": [
        "# **KNN Sub-functions**"
      ],
      "metadata": {
        "id": "WxGEoj2ErG8Y"
      }
    },
    {
      "cell_type": "markdown",
      "source": [
        "To compute the distance we can use three possible distance formulas: Euclidean, Manhattan and Winkowski.\n",
        "\n",
        "**--Euclidean distane**:\n"
      ],
      "metadata": {
        "id": "gqiHQjQQqAEM"
      }
    },
    {
      "cell_type": "code",
      "source": [
        "import math\n",
        "\n",
        "def euclideanDistance(instance1, instance2, length):\n",
        "        return math.sqrt(sum(list(map(lambda x,y: math.pow(x-y,2),instance1[:length],instance2[:length]))))\n",
        "#Example\n",
        "data1 = [2, 2, 2, 'a']\n",
        "data2 = [4, 4, 4, 'b']\n",
        "\n",
        "distance = euclideanDistance(data1, data2, 3)\n",
        "print ('Euclidean Distance: ' + repr(distance))"
      ],
      "metadata": {
        "colab": {
          "base_uri": "https://localhost:8080/"
        },
        "id": "PGiCPGCAX_oe",
        "outputId": "29173e9d-892c-4e29-fee5-ebc3625ed4ac"
      },
      "execution_count": null,
      "outputs": [
        {
          "output_type": "stream",
          "name": "stdout",
          "text": [
            "Euclidean Distance: 3.4641016151377544\n"
          ]
        }
      ]
    },
    {
      "cell_type": "markdown",
      "source": [
        "**--Manhattan distance**:"
      ],
      "metadata": {
        "id": "T3d-GdCwrQea"
      }
    },
    {
      "cell_type": "code",
      "source": [
        "def manhattanDistance(instance1, instance2, length):\n",
        "        return sum(list(map(lambda x, y: abs(x-y), instance1[:length], instance2[:length])))"
      ],
      "metadata": {
        "id": "ePkgMZ4KYIB4"
      },
      "execution_count": null,
      "outputs": []
    },
    {
      "cell_type": "markdown",
      "source": [
        "**--Minkowski distance**:\n",
        "Let's note that the Minkowski formula is a generalized version of the Euclidean and the Manhattan one: we have a parameter p in the Minkowski formula, if we put p = 1 we'll get the Manhattan distance and if we put p = 2, we'll get the Euclidean distance. For the Minkowski distance we'll take the middle: p = 3/2"
      ],
      "metadata": {
        "id": "AKNU7njErnPZ"
      }
    },
    {
      "cell_type": "code",
      "source": [
        "def minkowskiDistance(instance1, instance2, length):\n",
        "        return math.pow(sum(list(map(lambda x, y: math.pow(abs(x-y),(3/2)), instance1[:length], instance2[:length]))), 2/3)"
      ],
      "metadata": {
        "id": "Nl8E_qDDYKrb"
      },
      "execution_count": null,
      "outputs": []
    },
    {
      "cell_type": "markdown",
      "source": [
        "We have a fuction that computes the distance between our new instance and all the training observations and returns the K nearest neighbors of it."
      ],
      "metadata": {
        "id": "qCYuvBnYssXF"
      }
    },
    {
      "cell_type": "code",
      "source": [
        "import operator\n",
        "\n",
        "def getNeighbors(trainingSet, testInstance, k, distance):\n",
        "\n",
        "        distances = []\n",
        "\n",
        "        length = len(testInstance)-1\n",
        "\n",
        "        for x in range(len(trainingSet)):\n",
        "                if(distance == \"Euclidean\"):\n",
        "                        dist = euclideanDistance(testInstance, trainingSet[x], length)\n",
        "                elif(distance == \"Manhattan\"):\n",
        "                        dist = manhattanDistance(testInstance, trainingSet[x], length)\n",
        "                elif(distance == \"Minkowski\"):\n",
        "                        dist = minkowskiDistance(testInstance, trainingSet[x], length)\n",
        "\n",
        "                distances.append((trainingSet[x], dist))\n",
        "        # we sort the distances\n",
        "        distances.sort(key=operator.itemgetter(1))\n",
        "\n",
        "        neighbors = []\n",
        "\n",
        "        for x in range(k):\n",
        "                #we take the k nearest neighbors, so the instances with the shortest distance\n",
        "                neighbors.append(distances[x][0])\n",
        "\n",
        "        return neighbors\n",
        "\n",
        "\n",
        "#Example\n",
        "trainSet = [[2, 2, 2, 'a'], [4, 4, 4, 'b']]\n",
        "\n",
        "testInstance = [5, 5, 5]\n",
        "\n",
        "k = 1\n",
        "\n",
        "neighbors = getNeighbors(trainSet, testInstance, k, \"Euclidean\")\n",
        "\n",
        "print(neighbors)"
      ],
      "metadata": {
        "colab": {
          "base_uri": "https://localhost:8080/"
        },
        "id": "ycdmtZqSa8t_",
        "outputId": "ace38076-a3e1-419a-8a8c-d7ee39703ad0"
      },
      "execution_count": null,
      "outputs": [
        {
          "output_type": "stream",
          "name": "stdout",
          "text": [
            "[[4, 4, 4, 'b']]\n"
          ]
        }
      ]
    },
    {
      "cell_type": "markdown",
      "source": [
        "Now we have to write a function that will return the most common class in our list of k nearest neighbors."
      ],
      "metadata": {
        "id": "7kNOvj--tfAv"
      }
    },
    {
      "cell_type": "code",
      "source": [
        "import operator\n",
        "\n",
        "def getResponse(neighbors):\n",
        "        classVotes = {}\n",
        "\n",
        "        for x in range(len(neighbors)):\n",
        "\n",
        "                response = neighbors[x][-1]\n",
        "\n",
        "                if response in classVotes:\n",
        "                        classVotes[response] += 1\n",
        "                else: classVotes[response] = 1\n",
        "        sortedVotes = sorted(classVotes.items(), key=operator.itemgetter(1), reverse=True)\n",
        "        #print(sortedVotes)\n",
        "\n",
        "        return sortedVotes[0][0]\n",
        "\n",
        "#Example\n",
        "neighbors = [[1,1,1,'a'], [2,2,2,'a'], [3,3,3,'b']]\n",
        "\n",
        "response = getResponse(neighbors)\n",
        "\n",
        "print(response)"
      ],
      "metadata": {
        "colab": {
          "base_uri": "https://localhost:8080/"
        },
        "id": "-JAkQWOrborJ",
        "outputId": "fbcf8197-772c-424f-8a66-f1f0961a3741"
      },
      "execution_count": null,
      "outputs": [
        {
          "output_type": "stream",
          "name": "stdout",
          "text": [
            "a\n"
          ]
        }
      ]
    },
    {
      "cell_type": "code",
      "source": [
        "def getAccuracy(testSet, predictions):\n",
        "        c = 0\n",
        "        for x in range(len(testSet)):\n",
        "                if testSet[x][-1] == predictions[x]: c +=1\n",
        "        return (c/float(len(testSet))) * 100.0\n",
        "\n",
        "#Example\n",
        "test = [[1,1,1,'a'], [2,2,2,'a'], [3,3,3,'b']]\n",
        "\n",
        "preds = ['a', 'a', 'a']\n",
        "\n",
        "accuracy = getAccuracy(test, preds)\n",
        "\n",
        "print(accuracy)"
      ],
      "metadata": {
        "colab": {
          "base_uri": "https://localhost:8080/"
        },
        "id": "e2UNdif8byNE",
        "outputId": "49d83133-5c11-496e-abaa-cd7a57a83995"
      },
      "execution_count": null,
      "outputs": [
        {
          "output_type": "stream",
          "name": "stdout",
          "text": [
            "66.66666666666666\n"
          ]
        }
      ]
    },
    {
      "cell_type": "markdown",
      "source": [
        "# **Main KNN**"
      ],
      "metadata": {
        "id": "i_EqdTy1uk-T"
      }
    },
    {
      "cell_type": "code",
      "source": [
        "def KNN(dataset, instance, k, distance = 'Euclidean'):\n",
        "        return getResponse(getNeighbors(dataset,instance, k, distance))"
      ],
      "metadata": {
        "id": "RGIHYioOb7DP"
      },
      "execution_count": null,
      "outputs": []
    },
    {
      "cell_type": "code",
      "source": [
        "print(getAccuracy(testSet, list(map(lambda x: KNN(trainingSet, x, k=9), testSet))))\n",
        "print(getAccuracy(testSet, list(map(lambda x: KNN(trainingSet, x, distance=\"Manhattan\", k=9), testSet))))\n",
        "print(getAccuracy(testSet, list(map(lambda x: KNN(trainingSet, x, distance=\"Minkowski\", k=9), testSet))))"
      ],
      "metadata": {
        "colab": {
          "base_uri": "https://localhost:8080/"
        },
        "id": "T_ZzAvD_YXO5",
        "outputId": "e4919f01-58dd-4daf-d0c6-bc78a3aa4270"
      },
      "execution_count": null,
      "outputs": [
        {
          "output_type": "stream",
          "name": "stdout",
          "text": [
            "96.0\n",
            "94.0\n",
            "96.0\n"
          ]
        }
      ]
    }
  ]
}